{
  "nbformat": 4,
  "nbformat_minor": 0,
  "metadata": {
    "colab": {
      "provenance": [],
      "authorship_tag": "ABX9TyMJWbPMgQ0oJNZv4NpdAWwN",
      "include_colab_link": true
    },
    "kernelspec": {
      "name": "python3",
      "display_name": "Python 3"
    },
    "language_info": {
      "name": "python"
    },
    "widgets": {
      "application/vnd.jupyter.widget-state+json": {
        "94cc6b37b51745d38809ba78131e2929": {
          "model_module": "@jupyter-widgets/controls",
          "model_name": "VBoxModel",
          "model_module_version": "1.5.0",
          "state": {
            "_dom_classes": [
              "widget-interact"
            ],
            "_model_module": "@jupyter-widgets/controls",
            "_model_module_version": "1.5.0",
            "_model_name": "VBoxModel",
            "_view_count": null,
            "_view_module": "@jupyter-widgets/controls",
            "_view_module_version": "1.5.0",
            "_view_name": "VBoxView",
            "box_style": "",
            "children": [
              "IPY_MODEL_d3b6174b3a0f4ac19fac2e281bc7b1d0",
              "IPY_MODEL_bd1f70150ad7445388450496d1c6e229",
              "IPY_MODEL_64b0d648c3ad4414a0e05e462b6c8a1e",
              "IPY_MODEL_dc78fd1619b04ff08a12a8ab4c63f062",
              "IPY_MODEL_24e8b44cf4bf481b8b24d4bbd923e9f7",
              "IPY_MODEL_1e80d5d40fb84eddaf20a8e3ac50239b",
              "IPY_MODEL_aff3804788be4eef986b99617e5983af",
              "IPY_MODEL_9de379f8e85c41daaf3115474bee0462",
              "IPY_MODEL_66961ce0ee8e400e98c557806e53e0d5",
              "IPY_MODEL_5d8a0d87b71243d782b0dff5a08d2b2c",
              "IPY_MODEL_2aac7b950fc542a0942725af134188d9"
            ],
            "layout": "IPY_MODEL_34b5985fac1b440bb4e96b41f2a8d6cf"
          }
        },
        "d3b6174b3a0f4ac19fac2e281bc7b1d0": {
          "model_module": "@jupyter-widgets/controls",
          "model_name": "FloatSliderModel",
          "model_module_version": "1.5.0",
          "state": {
            "_dom_classes": [],
            "_model_module": "@jupyter-widgets/controls",
            "_model_module_version": "1.5.0",
            "_model_name": "FloatSliderModel",
            "_view_count": null,
            "_view_module": "@jupyter-widgets/controls",
            "_view_module_version": "1.5.0",
            "_view_name": "FloatSliderView",
            "continuous_update": true,
            "description": "costi di investimento [CHF]",
            "description_tooltip": null,
            "disabled": false,
            "layout": "IPY_MODEL_bab720a1db654fbf81eb02002fa27e2c",
            "max": 20000,
            "min": 0,
            "orientation": "horizontal",
            "readout": true,
            "readout_format": ".2f",
            "step": 100,
            "style": "IPY_MODEL_3a064c4885d145bd8a12053d5bef89cb",
            "value": 9200
          }
        },
        "bd1f70150ad7445388450496d1c6e229": {
          "model_module": "@jupyter-widgets/controls",
          "model_name": "FloatSliderModel",
          "model_module_version": "1.5.0",
          "state": {
            "_dom_classes": [],
            "_model_module": "@jupyter-widgets/controls",
            "_model_module_version": "1.5.0",
            "_model_name": "FloatSliderModel",
            "_view_count": null,
            "_view_module": "@jupyter-widgets/controls",
            "_view_module_version": "1.5.0",
            "_view_name": "FloatSliderView",
            "continuous_update": true,
            "description": "capacità batteria [kWh]",
            "description_tooltip": null,
            "disabled": false,
            "layout": "IPY_MODEL_bab720a1db654fbf81eb02002fa27e2c",
            "max": 100,
            "min": 0,
            "orientation": "horizontal",
            "readout": true,
            "readout_format": ".2f",
            "step": 0.1,
            "style": "IPY_MODEL_1bb07c7e1e9844f2823f448b350cee6f",
            "value": 13.5
          }
        },
        "64b0d648c3ad4414a0e05e462b6c8a1e": {
          "model_module": "@jupyter-widgets/controls",
          "model_name": "FloatSliderModel",
          "model_module_version": "1.5.0",
          "state": {
            "_dom_classes": [],
            "_model_module": "@jupyter-widgets/controls",
            "_model_module_version": "1.5.0",
            "_model_name": "FloatSliderModel",
            "_view_count": null,
            "_view_module": "@jupyter-widgets/controls",
            "_view_module_version": "1.5.0",
            "_view_name": "FloatSliderView",
            "continuous_update": true,
            "description": "efficienza di andata e ritorno [%]",
            "description_tooltip": null,
            "disabled": false,
            "layout": "IPY_MODEL_bab720a1db654fbf81eb02002fa27e2c",
            "max": 100,
            "min": 85,
            "orientation": "horizontal",
            "readout": true,
            "readout_format": ".2f",
            "step": 1,
            "style": "IPY_MODEL_e72b2bac9bd247529d9462d885c6b967",
            "value": 92
          }
        },
        "dc78fd1619b04ff08a12a8ab4c63f062": {
          "model_module": "@jupyter-widgets/controls",
          "model_name": "FloatSliderModel",
          "model_module_version": "1.5.0",
          "state": {
            "_dom_classes": [],
            "_model_module": "@jupyter-widgets/controls",
            "_model_module_version": "1.5.0",
            "_model_name": "FloatSliderModel",
            "_view_count": null,
            "_view_module": "@jupyter-widgets/controls",
            "_view_module_version": "1.5.0",
            "_view_name": "FloatSliderView",
            "continuous_update": true,
            "description": "prezzo di vendita energia [cts/kWh]",
            "description_tooltip": null,
            "disabled": false,
            "layout": "IPY_MODEL_bab720a1db654fbf81eb02002fa27e2c",
            "max": 100,
            "min": 0,
            "orientation": "horizontal",
            "readout": true,
            "readout_format": ".2f",
            "step": 0.001,
            "style": "IPY_MODEL_3192bc1442154a06a7a92da74a8f81da",
            "value": 17.4
          }
        },
        "24e8b44cf4bf481b8b24d4bbd923e9f7": {
          "model_module": "@jupyter-widgets/controls",
          "model_name": "FloatSliderModel",
          "model_module_version": "1.5.0",
          "state": {
            "_dom_classes": [],
            "_model_module": "@jupyter-widgets/controls",
            "_model_module_version": "1.5.0",
            "_model_name": "FloatSliderModel",
            "_view_count": null,
            "_view_module": "@jupyter-widgets/controls",
            "_view_module_version": "1.5.0",
            "_view_name": "FloatSliderView",
            "continuous_update": true,
            "description": "prezzo di acquisto energia [cts/kWh]",
            "description_tooltip": null,
            "disabled": false,
            "layout": "IPY_MODEL_bab720a1db654fbf81eb02002fa27e2c",
            "max": 100,
            "min": 0,
            "orientation": "horizontal",
            "readout": true,
            "readout_format": ".2f",
            "step": 0.001,
            "style": "IPY_MODEL_250548cd0a324e19a346663cd0acab7e",
            "value": 26.49
          }
        },
        "1e80d5d40fb84eddaf20a8e3ac50239b": {
          "model_module": "@jupyter-widgets/controls",
          "model_name": "FloatSliderModel",
          "model_module_version": "1.5.0",
          "state": {
            "_dom_classes": [],
            "_model_module": "@jupyter-widgets/controls",
            "_model_module_version": "1.5.0",
            "_model_name": "FloatSliderModel",
            "_view_count": null,
            "_view_module": "@jupyter-widgets/controls",
            "_view_module_version": "1.5.0",
            "_view_name": "FloatSliderView",
            "continuous_update": true,
            "description": "costi di manutenzione [CHF/kWh/anno]",
            "description_tooltip": null,
            "disabled": false,
            "layout": "IPY_MODEL_bab720a1db654fbf81eb02002fa27e2c",
            "max": 50,
            "min": 0,
            "orientation": "horizontal",
            "readout": true,
            "readout_format": ".2f",
            "step": 1,
            "style": "IPY_MODEL_8b17a82fa10e432fb59f4c803dce5ddc",
            "value": 0
          }
        },
        "aff3804788be4eef986b99617e5983af": {
          "model_module": "@jupyter-widgets/controls",
          "model_name": "FloatSliderModel",
          "model_module_version": "1.5.0",
          "state": {
            "_dom_classes": [],
            "_model_module": "@jupyter-widgets/controls",
            "_model_module_version": "1.5.0",
            "_model_name": "FloatSliderModel",
            "_view_count": null,
            "_view_module": "@jupyter-widgets/controls",
            "_view_module_version": "1.5.0",
            "_view_name": "FloatSliderView",
            "continuous_update": true,
            "description": "costi di smaltimento [CHF]",
            "description_tooltip": null,
            "disabled": false,
            "layout": "IPY_MODEL_bab720a1db654fbf81eb02002fa27e2c",
            "max": 1000,
            "min": 0,
            "orientation": "horizontal",
            "readout": true,
            "readout_format": ".2f",
            "step": 10,
            "style": "IPY_MODEL_0d7da619c8964c8fbdb19a83bfd3de44",
            "value": 0
          }
        },
        "9de379f8e85c41daaf3115474bee0462": {
          "model_module": "@jupyter-widgets/controls",
          "model_name": "IntSliderModel",
          "model_module_version": "1.5.0",
          "state": {
            "_dom_classes": [],
            "_model_module": "@jupyter-widgets/controls",
            "_model_module_version": "1.5.0",
            "_model_name": "IntSliderModel",
            "_view_count": null,
            "_view_module": "@jupyter-widgets/controls",
            "_view_module_version": "1.5.0",
            "_view_name": "IntSliderView",
            "continuous_update": true,
            "description": "cicli equivalenti [cicli/anno]",
            "description_tooltip": null,
            "disabled": false,
            "layout": "IPY_MODEL_bab720a1db654fbf81eb02002fa27e2c",
            "max": 365,
            "min": 0,
            "orientation": "horizontal",
            "readout": true,
            "readout_format": "d",
            "step": 1,
            "style": "IPY_MODEL_ce79a4b62e6544c08159898ed6e21cde",
            "value": 250
          }
        },
        "66961ce0ee8e400e98c557806e53e0d5": {
          "model_module": "@jupyter-widgets/controls",
          "model_name": "IntSliderModel",
          "model_module_version": "1.5.0",
          "state": {
            "_dom_classes": [],
            "_model_module": "@jupyter-widgets/controls",
            "_model_module_version": "1.5.0",
            "_model_name": "IntSliderModel",
            "_view_count": null,
            "_view_module": "@jupyter-widgets/controls",
            "_view_module_version": "1.5.0",
            "_view_name": "IntSliderView",
            "continuous_update": true,
            "description": "Durata di vita [anni]",
            "description_tooltip": null,
            "disabled": false,
            "layout": "IPY_MODEL_bab720a1db654fbf81eb02002fa27e2c",
            "max": 30,
            "min": 1,
            "orientation": "horizontal",
            "readout": true,
            "readout_format": "d",
            "step": 1,
            "style": "IPY_MODEL_16a11a631f964f4d91c3c3035ac646ec",
            "value": 10
          }
        },
        "5d8a0d87b71243d782b0dff5a08d2b2c": {
          "model_module": "@jupyter-widgets/controls",
          "model_name": "FloatSliderModel",
          "model_module_version": "1.5.0",
          "state": {
            "_dom_classes": [],
            "_model_module": "@jupyter-widgets/controls",
            "_model_module_version": "1.5.0",
            "_model_name": "FloatSliderModel",
            "_view_count": null,
            "_view_module": "@jupyter-widgets/controls",
            "_view_module_version": "1.5.0",
            "_view_name": "FloatSliderView",
            "continuous_update": true,
            "description": "tasso di sconto [%]",
            "description_tooltip": null,
            "disabled": false,
            "layout": "IPY_MODEL_bab720a1db654fbf81eb02002fa27e2c",
            "max": 10,
            "min": 0,
            "orientation": "horizontal",
            "readout": true,
            "readout_format": ".2f",
            "step": 0.1,
            "style": "IPY_MODEL_cf2aa41efa0c46aaab4ca6c1036e90da",
            "value": 1
          }
        },
        "2aac7b950fc542a0942725af134188d9": {
          "model_module": "@jupyter-widgets/output",
          "model_name": "OutputModel",
          "model_module_version": "1.0.0",
          "state": {
            "_dom_classes": [],
            "_model_module": "@jupyter-widgets/output",
            "_model_module_version": "1.0.0",
            "_model_name": "OutputModel",
            "_view_count": null,
            "_view_module": "@jupyter-widgets/output",
            "_view_module_version": "1.0.0",
            "_view_name": "OutputView",
            "layout": "IPY_MODEL_50925a7fa3ff4da891aa846be4333ccd",
            "msg_id": "",
            "outputs": [
              {
                "output_type": "display_data",
                "data": {
                  "text/plain": "<Figure size 800x400 with 1 Axes>",
                  "image/png": "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\n"
                },
                "metadata": {}
              }
            ]
          }
        },
        "34b5985fac1b440bb4e96b41f2a8d6cf": {
          "model_module": "@jupyter-widgets/base",
          "model_name": "LayoutModel",
          "model_module_version": "1.2.0",
          "state": {
            "_model_module": "@jupyter-widgets/base",
            "_model_module_version": "1.2.0",
            "_model_name": "LayoutModel",
            "_view_count": null,
            "_view_module": "@jupyter-widgets/base",
            "_view_module_version": "1.2.0",
            "_view_name": "LayoutView",
            "align_content": null,
            "align_items": null,
            "align_self": null,
            "border": null,
            "bottom": null,
            "display": null,
            "flex": null,
            "flex_flow": null,
            "grid_area": null,
            "grid_auto_columns": null,
            "grid_auto_flow": null,
            "grid_auto_rows": null,
            "grid_column": null,
            "grid_gap": null,
            "grid_row": null,
            "grid_template_areas": null,
            "grid_template_columns": null,
            "grid_template_rows": null,
            "height": null,
            "justify_content": null,
            "justify_items": null,
            "left": null,
            "margin": null,
            "max_height": null,
            "max_width": null,
            "min_height": null,
            "min_width": null,
            "object_fit": null,
            "object_position": null,
            "order": null,
            "overflow": null,
            "overflow_x": null,
            "overflow_y": null,
            "padding": null,
            "right": null,
            "top": null,
            "visibility": null,
            "width": null
          }
        },
        "bab720a1db654fbf81eb02002fa27e2c": {
          "model_module": "@jupyter-widgets/base",
          "model_name": "LayoutModel",
          "model_module_version": "1.2.0",
          "state": {
            "_model_module": "@jupyter-widgets/base",
            "_model_module_version": "1.2.0",
            "_model_name": "LayoutModel",
            "_view_count": null,
            "_view_module": "@jupyter-widgets/base",
            "_view_module_version": "1.2.0",
            "_view_name": "LayoutView",
            "align_content": null,
            "align_items": null,
            "align_self": null,
            "border": null,
            "bottom": null,
            "display": null,
            "flex": null,
            "flex_flow": null,
            "grid_area": null,
            "grid_auto_columns": null,
            "grid_auto_flow": null,
            "grid_auto_rows": null,
            "grid_column": null,
            "grid_gap": null,
            "grid_row": null,
            "grid_template_areas": null,
            "grid_template_columns": null,
            "grid_template_rows": null,
            "height": null,
            "justify_content": null,
            "justify_items": null,
            "left": null,
            "margin": null,
            "max_height": null,
            "max_width": null,
            "min_height": null,
            "min_width": null,
            "object_fit": null,
            "object_position": null,
            "order": null,
            "overflow": null,
            "overflow_x": null,
            "overflow_y": null,
            "padding": null,
            "right": null,
            "top": null,
            "visibility": null,
            "width": "30%"
          }
        },
        "3a064c4885d145bd8a12053d5bef89cb": {
          "model_module": "@jupyter-widgets/controls",
          "model_name": "SliderStyleModel",
          "model_module_version": "1.5.0",
          "state": {
            "_model_module": "@jupyter-widgets/controls",
            "_model_module_version": "1.5.0",
            "_model_name": "SliderStyleModel",
            "_view_count": null,
            "_view_module": "@jupyter-widgets/base",
            "_view_module_version": "1.2.0",
            "_view_name": "StyleView",
            "description_width": "33%",
            "handle_color": null
          }
        },
        "1bb07c7e1e9844f2823f448b350cee6f": {
          "model_module": "@jupyter-widgets/controls",
          "model_name": "SliderStyleModel",
          "model_module_version": "1.5.0",
          "state": {
            "_model_module": "@jupyter-widgets/controls",
            "_model_module_version": "1.5.0",
            "_model_name": "SliderStyleModel",
            "_view_count": null,
            "_view_module": "@jupyter-widgets/base",
            "_view_module_version": "1.2.0",
            "_view_name": "StyleView",
            "description_width": "33%",
            "handle_color": null
          }
        },
        "e72b2bac9bd247529d9462d885c6b967": {
          "model_module": "@jupyter-widgets/controls",
          "model_name": "SliderStyleModel",
          "model_module_version": "1.5.0",
          "state": {
            "_model_module": "@jupyter-widgets/controls",
            "_model_module_version": "1.5.0",
            "_model_name": "SliderStyleModel",
            "_view_count": null,
            "_view_module": "@jupyter-widgets/base",
            "_view_module_version": "1.2.0",
            "_view_name": "StyleView",
            "description_width": "33%",
            "handle_color": null
          }
        },
        "3192bc1442154a06a7a92da74a8f81da": {
          "model_module": "@jupyter-widgets/controls",
          "model_name": "SliderStyleModel",
          "model_module_version": "1.5.0",
          "state": {
            "_model_module": "@jupyter-widgets/controls",
            "_model_module_version": "1.5.0",
            "_model_name": "SliderStyleModel",
            "_view_count": null,
            "_view_module": "@jupyter-widgets/base",
            "_view_module_version": "1.2.0",
            "_view_name": "StyleView",
            "description_width": "33%",
            "handle_color": null
          }
        },
        "250548cd0a324e19a346663cd0acab7e": {
          "model_module": "@jupyter-widgets/controls",
          "model_name": "SliderStyleModel",
          "model_module_version": "1.5.0",
          "state": {
            "_model_module": "@jupyter-widgets/controls",
            "_model_module_version": "1.5.0",
            "_model_name": "SliderStyleModel",
            "_view_count": null,
            "_view_module": "@jupyter-widgets/base",
            "_view_module_version": "1.2.0",
            "_view_name": "StyleView",
            "description_width": "33%",
            "handle_color": null
          }
        },
        "8b17a82fa10e432fb59f4c803dce5ddc": {
          "model_module": "@jupyter-widgets/controls",
          "model_name": "SliderStyleModel",
          "model_module_version": "1.5.0",
          "state": {
            "_model_module": "@jupyter-widgets/controls",
            "_model_module_version": "1.5.0",
            "_model_name": "SliderStyleModel",
            "_view_count": null,
            "_view_module": "@jupyter-widgets/base",
            "_view_module_version": "1.2.0",
            "_view_name": "StyleView",
            "description_width": "33%",
            "handle_color": null
          }
        },
        "0d7da619c8964c8fbdb19a83bfd3de44": {
          "model_module": "@jupyter-widgets/controls",
          "model_name": "SliderStyleModel",
          "model_module_version": "1.5.0",
          "state": {
            "_model_module": "@jupyter-widgets/controls",
            "_model_module_version": "1.5.0",
            "_model_name": "SliderStyleModel",
            "_view_count": null,
            "_view_module": "@jupyter-widgets/base",
            "_view_module_version": "1.2.0",
            "_view_name": "StyleView",
            "description_width": "33%",
            "handle_color": null
          }
        },
        "ce79a4b62e6544c08159898ed6e21cde": {
          "model_module": "@jupyter-widgets/controls",
          "model_name": "SliderStyleModel",
          "model_module_version": "1.5.0",
          "state": {
            "_model_module": "@jupyter-widgets/controls",
            "_model_module_version": "1.5.0",
            "_model_name": "SliderStyleModel",
            "_view_count": null,
            "_view_module": "@jupyter-widgets/base",
            "_view_module_version": "1.2.0",
            "_view_name": "StyleView",
            "description_width": "33%",
            "handle_color": null
          }
        },
        "16a11a631f964f4d91c3c3035ac646ec": {
          "model_module": "@jupyter-widgets/controls",
          "model_name": "SliderStyleModel",
          "model_module_version": "1.5.0",
          "state": {
            "_model_module": "@jupyter-widgets/controls",
            "_model_module_version": "1.5.0",
            "_model_name": "SliderStyleModel",
            "_view_count": null,
            "_view_module": "@jupyter-widgets/base",
            "_view_module_version": "1.2.0",
            "_view_name": "StyleView",
            "description_width": "33%",
            "handle_color": null
          }
        },
        "cf2aa41efa0c46aaab4ca6c1036e90da": {
          "model_module": "@jupyter-widgets/controls",
          "model_name": "SliderStyleModel",
          "model_module_version": "1.5.0",
          "state": {
            "_model_module": "@jupyter-widgets/controls",
            "_model_module_version": "1.5.0",
            "_model_name": "SliderStyleModel",
            "_view_count": null,
            "_view_module": "@jupyter-widgets/base",
            "_view_module_version": "1.2.0",
            "_view_name": "StyleView",
            "description_width": "33%",
            "handle_color": null
          }
        },
        "50925a7fa3ff4da891aa846be4333ccd": {
          "model_module": "@jupyter-widgets/base",
          "model_name": "LayoutModel",
          "model_module_version": "1.2.0",
          "state": {
            "_model_module": "@jupyter-widgets/base",
            "_model_module_version": "1.2.0",
            "_model_name": "LayoutModel",
            "_view_count": null,
            "_view_module": "@jupyter-widgets/base",
            "_view_module_version": "1.2.0",
            "_view_name": "LayoutView",
            "align_content": null,
            "align_items": null,
            "align_self": null,
            "border": null,
            "bottom": null,
            "display": null,
            "flex": null,
            "flex_flow": null,
            "grid_area": null,
            "grid_auto_columns": null,
            "grid_auto_flow": null,
            "grid_auto_rows": null,
            "grid_column": null,
            "grid_gap": null,
            "grid_row": null,
            "grid_template_areas": null,
            "grid_template_columns": null,
            "grid_template_rows": null,
            "height": null,
            "justify_content": null,
            "justify_items": null,
            "left": null,
            "margin": null,
            "max_height": null,
            "max_width": null,
            "min_height": null,
            "min_width": null,
            "object_fit": null,
            "object_position": null,
            "order": null,
            "overflow": null,
            "overflow_x": null,
            "overflow_y": null,
            "padding": null,
            "right": null,
            "top": null,
            "visibility": null,
            "width": null
          }
        }
      }
    }
  },
  "cells": [
    {
      "cell_type": "markdown",
      "metadata": {
        "id": "view-in-github",
        "colab_type": "text"
      },
      "source": [
        "<a href=\"https://colab.research.google.com/github/supsi-dacd-isaac/teaching/blob/main/2023SelfConsumption/LCOS_batteria.ipynb\" target=\"_parent\"><img src=\"https://colab.research.google.com/assets/colab-badge.svg\" alt=\"Open In Colab\"/></a>"
      ]
    },
    {
      "cell_type": "markdown",
      "source": [
        "# Calcolo del LCOS di una batteria\n",
        "\n",
        "# $LCOS\\left[\\frac{CHF}{kWh}\\right] = \\frac{C_{investimento} + \\sum_{n=1}^N{\\frac{C_{manutenzione}}{\\left(1+r\\right)^n}}+ \\sum_{n=1}^N{\\frac{C_{carica}}{\\left(1+r\\right)^n}}+ \\frac{C_{smaltimento}}{\\left(1+r\\right)^N}}{\\sum_{n=1}^N{\\frac{E_{scaricata}}{\\left(1+r\\right)^n}}}$\n",
        "\n",
        "*   N = durata di vita della batteria\n",
        "*   r = tasso di sconto"
      ],
      "metadata": {
        "id": "pZvXNxCrvUou"
      }
    },
    {
      "cell_type": "code",
      "execution_count": 5,
      "metadata": {
        "colab": {
          "base_uri": "https://localhost:8080/",
          "height": 728,
          "referenced_widgets": [
            "94cc6b37b51745d38809ba78131e2929",
            "d3b6174b3a0f4ac19fac2e281bc7b1d0",
            "bd1f70150ad7445388450496d1c6e229",
            "64b0d648c3ad4414a0e05e462b6c8a1e",
            "dc78fd1619b04ff08a12a8ab4c63f062",
            "24e8b44cf4bf481b8b24d4bbd923e9f7",
            "1e80d5d40fb84eddaf20a8e3ac50239b",
            "aff3804788be4eef986b99617e5983af",
            "9de379f8e85c41daaf3115474bee0462",
            "66961ce0ee8e400e98c557806e53e0d5",
            "5d8a0d87b71243d782b0dff5a08d2b2c",
            "2aac7b950fc542a0942725af134188d9",
            "34b5985fac1b440bb4e96b41f2a8d6cf",
            "bab720a1db654fbf81eb02002fa27e2c",
            "3a064c4885d145bd8a12053d5bef89cb",
            "1bb07c7e1e9844f2823f448b350cee6f",
            "e72b2bac9bd247529d9462d885c6b967",
            "3192bc1442154a06a7a92da74a8f81da",
            "250548cd0a324e19a346663cd0acab7e",
            "8b17a82fa10e432fb59f4c803dce5ddc",
            "0d7da619c8964c8fbdb19a83bfd3de44",
            "ce79a4b62e6544c08159898ed6e21cde",
            "16a11a631f964f4d91c3c3035ac646ec",
            "cf2aa41efa0c46aaab4ca6c1036e90da",
            "50925a7fa3ff4da891aa846be4333ccd"
          ]
        },
        "id": "oR7KxsIOvL0K",
        "outputId": "3da3b08a-ad2c-4aa3-aeb8-326187e12fe7",
        "cellView": "form"
      },
      "outputs": [
        {
          "output_type": "display_data",
          "data": {
            "text/plain": [
              "interactive(children=(FloatSlider(value=9200.0, description='costi di investimento [CHF]', layout=Layout(width…"
            ],
            "application/vnd.jupyter.widget-view+json": {
              "version_major": 2,
              "version_minor": 0,
              "model_id": "94cc6b37b51745d38809ba78131e2929"
            }
          },
          "metadata": {}
        },
        {
          "output_type": "execute_result",
          "data": {
            "text/plain": [
              "<function __main__.calc_lcos(c_investimento, capacita_batteria, efficienza, p_carica, p_acquisto, c_manutenzione, c_smaltimento, cicli_equivalenti, N, r)>"
            ]
          },
          "metadata": {},
          "execution_count": 5
        }
      ],
      "source": [
        "#@title Codice per calcolo LCOS\n",
        "import numpy as np\n",
        "import ipywidgets as widgets\n",
        "from ipywidgets import interact\n",
        "import matplotlib.pyplot as plt\n",
        "\n",
        "def calc_lcos(c_investimento, capacita_batteria, efficienza, p_carica, p_acquisto, c_manutenzione, c_smaltimento, cicli_equivalenti, N, r):\n",
        "    r /= 100\n",
        "    e_caricata = cicli_equivalenti * capacita_batteria\n",
        "    c_carica = e_caricata * p_carica / 100.0\n",
        "    e_scaricata = e_caricata * efficienza / 100.0\n",
        "\n",
        "    somma_manutenzione = sum(c_manutenzione * capacita_batteria / (1 + r)**n for n in range(1, N + 1))\n",
        "    somma_carica = sum(c_carica / (1 + r)**n for n in range(1, N + 1))\n",
        "    somma_scarica = sum(e_scaricata / (1 + r)**n for n in range(1, N + 1))\n",
        "\n",
        "    lcos = (c_investimento + somma_manutenzione + somma_carica + c_smaltimento / (1 + r)**N) / somma_scarica * 100\n",
        "\n",
        "    # Display the result in an image\n",
        "    fig, ax = plt.subplots(figsize=(8, 4))\n",
        "    bar = ax.bar(['prezzo acquisto energia', 'LCOS'], [p_acquisto, lcos])\n",
        "    ax.bar_label(bar, fmt='{:.2f}',padding=3)\n",
        "    ax.set_ylabel('cts/kWh')\n",
        "    ax.set_ylim(0, 70)\n",
        "    ax.set_title('Batteria {:.0f}CHF/kWh'.format(c_investimento/capacita_batteria))\n",
        "\n",
        "    # ax.text(0.5, 0.5, f'LCOS: {lcos:.2f} CHF/kWh', fontsize=12, va='center', ha='center')\n",
        "    # ax.axis('off')\n",
        "    plt.show()\n",
        "\n",
        "slider_kwargs = dict(style={'description_width': '33%'}, layout=widgets.Layout(width='30%'))\n",
        "# Create sliders for each constant\n",
        "c_investimento_slider = widgets.FloatSlider(value=9200, min=0, max=20000, step=100, description='costi di investimento [CHF]', **slider_kwargs)\n",
        "capacita_batteria_slider = widgets.FloatSlider(value=13.5, min=0, max=100, step=0.1, description='capacità batteria [kWh]', **slider_kwargs)\n",
        "efficienza_slider = widgets.FloatSlider(value=92, min=85, max=100, step=1, description='efficienza di andata e ritorno [%]', **slider_kwargs)\n",
        "p_carica_slider = widgets.FloatSlider(value=17.4, min=0, max=100, step=0.001, description='prezzo di vendita energia [cts/kWh]', **slider_kwargs)\n",
        "p_acquisto_slider = widgets.FloatSlider(value=26.49, min=0, max=100, step=0.001, description='prezzo di acquisto energia [cts/kWh]', **slider_kwargs)\n",
        "c_manutenzione_slider = widgets.FloatSlider(value=0, min=0, max=50, step=1, description='costi di manutenzione [CHF/kWh/anno]', **slider_kwargs)\n",
        "c_smaltimento_slider = widgets.FloatSlider(value=0, min=0, max=1000, step=10, description='costi di smaltimento [CHF]', **slider_kwargs)\n",
        "cicli_equivalenti_slider = widgets.IntSlider(value=250, min=0, max=365, step=1, description='cicli equivalenti [cicli/anno]', **slider_kwargs)\n",
        "N_slider = widgets.IntSlider(value=10, min=1, max=30, step=1, description='Durata di vita [anni]', **slider_kwargs)\n",
        "r_slider = widgets.FloatSlider(value=1, min=0, max=10, step=0.1, description='tasso di sconto [%]', **slider_kwargs)\n",
        "\n",
        "# Use interact to create interactive sliders\n",
        "interact(calc_lcos,\n",
        "         c_investimento=c_investimento_slider,\n",
        "         capacita_batteria=capacita_batteria_slider,\n",
        "         efficienza=efficienza_slider,\n",
        "         p_carica=p_carica_slider,\n",
        "         p_acquisto=p_acquisto_slider,\n",
        "         c_manutenzione=c_manutenzione_slider,\n",
        "         c_smaltimento=c_smaltimento_slider,\n",
        "         cicli_equivalenti=cicli_equivalenti_slider,\n",
        "         N=N_slider,\n",
        "         r=r_slider)"
      ]
    }
  ]
}