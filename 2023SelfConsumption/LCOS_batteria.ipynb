{
  "nbformat": 4,
  "nbformat_minor": 0,
  "metadata": {
    "colab": {
      "provenance": [],
      "authorship_tag": "ABX9TyPQWv5aqYzSvGVGhuj6K3fw",
      "include_colab_link": true
    },
    "kernelspec": {
      "name": "python3",
      "display_name": "Python 3"
    },
    "language_info": {
      "name": "python"
    },
    "widgets": {
      "application/vnd.jupyter.widget-state+json": {
        "1f002fd287574ef8ab50fa47baaaa6b5": {
          "model_module": "@jupyter-widgets/controls",
          "model_name": "VBoxModel",
          "model_module_version": "1.5.0",
          "state": {
            "_dom_classes": [
              "widget-interact"
            ],
            "_model_module": "@jupyter-widgets/controls",
            "_model_module_version": "1.5.0",
            "_model_name": "VBoxModel",
            "_view_count": null,
            "_view_module": "@jupyter-widgets/controls",
            "_view_module_version": "1.5.0",
            "_view_name": "VBoxView",
            "box_style": "",
            "children": [
              "IPY_MODEL_6e5d7628f154485a96a1bcd55edabdcc",
              "IPY_MODEL_3e737e3c748c4815a1ba283de9e81633",
              "IPY_MODEL_c2c9141cf5564d9e947730a1b7b0bc5e",
              "IPY_MODEL_1c554576806b40bea286258b730c2645",
              "IPY_MODEL_eed3eb0dc16641cbb15c6742974a8eac",
              "IPY_MODEL_f142e762fcc14402b4a7eead4ed2ac47",
              "IPY_MODEL_4dae7f26e19c4b5c9223151322751308",
              "IPY_MODEL_3d19e485bcec4aa09647fdac66ab7517",
              "IPY_MODEL_5dd33f6541a145c59a7e0569705d20dc",
              "IPY_MODEL_2a86d74be61d46e99a321422f32110f8",
              "IPY_MODEL_d03c08d8e11a44dd9ee3a7fafd7a5b86"
            ],
            "layout": "IPY_MODEL_806c4d175b1b49c7b4ccbae0f6fce294"
          }
        },
        "6e5d7628f154485a96a1bcd55edabdcc": {
          "model_module": "@jupyter-widgets/controls",
          "model_name": "FloatSliderModel",
          "model_module_version": "1.5.0",
          "state": {
            "_dom_classes": [],
            "_model_module": "@jupyter-widgets/controls",
            "_model_module_version": "1.5.0",
            "_model_name": "FloatSliderModel",
            "_view_count": null,
            "_view_module": "@jupyter-widgets/controls",
            "_view_module_version": "1.5.0",
            "_view_name": "FloatSliderView",
            "continuous_update": true,
            "description": "costi di investimento [CHF]",
            "description_tooltip": null,
            "disabled": false,
            "layout": "IPY_MODEL_e5682432af444641b381f4c120916d1b",
            "max": 20000,
            "min": 0,
            "orientation": "horizontal",
            "readout": true,
            "readout_format": ".2f",
            "step": 100,
            "style": "IPY_MODEL_dd1a6ae071bb48c5b038538f504116df",
            "value": 9200
          }
        },
        "3e737e3c748c4815a1ba283de9e81633": {
          "model_module": "@jupyter-widgets/controls",
          "model_name": "FloatSliderModel",
          "model_module_version": "1.5.0",
          "state": {
            "_dom_classes": [],
            "_model_module": "@jupyter-widgets/controls",
            "_model_module_version": "1.5.0",
            "_model_name": "FloatSliderModel",
            "_view_count": null,
            "_view_module": "@jupyter-widgets/controls",
            "_view_module_version": "1.5.0",
            "_view_name": "FloatSliderView",
            "continuous_update": true,
            "description": "capacità batteria [kWh]",
            "description_tooltip": null,
            "disabled": false,
            "layout": "IPY_MODEL_e5682432af444641b381f4c120916d1b",
            "max": 100,
            "min": 0,
            "orientation": "horizontal",
            "readout": true,
            "readout_format": ".2f",
            "step": 0.1,
            "style": "IPY_MODEL_ebd6e699cc7c405ab0d4adb75fd6a306",
            "value": 13.5
          }
        },
        "c2c9141cf5564d9e947730a1b7b0bc5e": {
          "model_module": "@jupyter-widgets/controls",
          "model_name": "FloatSliderModel",
          "model_module_version": "1.5.0",
          "state": {
            "_dom_classes": [],
            "_model_module": "@jupyter-widgets/controls",
            "_model_module_version": "1.5.0",
            "_model_name": "FloatSliderModel",
            "_view_count": null,
            "_view_module": "@jupyter-widgets/controls",
            "_view_module_version": "1.5.0",
            "_view_name": "FloatSliderView",
            "continuous_update": true,
            "description": "efficienza di andata e ritorno [%]",
            "description_tooltip": null,
            "disabled": false,
            "layout": "IPY_MODEL_e5682432af444641b381f4c120916d1b",
            "max": 100,
            "min": 85,
            "orientation": "horizontal",
            "readout": true,
            "readout_format": ".2f",
            "step": 1,
            "style": "IPY_MODEL_02231eafb7fb47a5be4d015e86aafe02",
            "value": 92
          }
        },
        "1c554576806b40bea286258b730c2645": {
          "model_module": "@jupyter-widgets/controls",
          "model_name": "FloatSliderModel",
          "model_module_version": "1.5.0",
          "state": {
            "_dom_classes": [],
            "_model_module": "@jupyter-widgets/controls",
            "_model_module_version": "1.5.0",
            "_model_name": "FloatSliderModel",
            "_view_count": null,
            "_view_module": "@jupyter-widgets/controls",
            "_view_module_version": "1.5.0",
            "_view_name": "FloatSliderView",
            "continuous_update": true,
            "description": "prezzo di vendita energia [cts/kWh]",
            "description_tooltip": null,
            "disabled": false,
            "layout": "IPY_MODEL_e5682432af444641b381f4c120916d1b",
            "max": 100,
            "min": 0,
            "orientation": "horizontal",
            "readout": true,
            "readout_format": ".2f",
            "step": 0.001,
            "style": "IPY_MODEL_947cd31403d54921b88543690871aa59",
            "value": 17.4
          }
        },
        "eed3eb0dc16641cbb15c6742974a8eac": {
          "model_module": "@jupyter-widgets/controls",
          "model_name": "FloatSliderModel",
          "model_module_version": "1.5.0",
          "state": {
            "_dom_classes": [],
            "_model_module": "@jupyter-widgets/controls",
            "_model_module_version": "1.5.0",
            "_model_name": "FloatSliderModel",
            "_view_count": null,
            "_view_module": "@jupyter-widgets/controls",
            "_view_module_version": "1.5.0",
            "_view_name": "FloatSliderView",
            "continuous_update": true,
            "description": "prezzo di acquisto energia [cts/kWh]",
            "description_tooltip": null,
            "disabled": false,
            "layout": "IPY_MODEL_e5682432af444641b381f4c120916d1b",
            "max": 100,
            "min": 0,
            "orientation": "horizontal",
            "readout": true,
            "readout_format": ".2f",
            "step": 0.001,
            "style": "IPY_MODEL_db742bc5a40f4274bd353042120a6ea8",
            "value": 26.49
          }
        },
        "f142e762fcc14402b4a7eead4ed2ac47": {
          "model_module": "@jupyter-widgets/controls",
          "model_name": "FloatSliderModel",
          "model_module_version": "1.5.0",
          "state": {
            "_dom_classes": [],
            "_model_module": "@jupyter-widgets/controls",
            "_model_module_version": "1.5.0",
            "_model_name": "FloatSliderModel",
            "_view_count": null,
            "_view_module": "@jupyter-widgets/controls",
            "_view_module_version": "1.5.0",
            "_view_name": "FloatSliderView",
            "continuous_update": true,
            "description": "costi di manutenzione [CHF/kWh/anno]",
            "description_tooltip": null,
            "disabled": false,
            "layout": "IPY_MODEL_e5682432af444641b381f4c120916d1b",
            "max": 50,
            "min": 0,
            "orientation": "horizontal",
            "readout": true,
            "readout_format": ".2f",
            "step": 1,
            "style": "IPY_MODEL_eacf858405214718bf6d3db4623d714f",
            "value": 0
          }
        },
        "4dae7f26e19c4b5c9223151322751308": {
          "model_module": "@jupyter-widgets/controls",
          "model_name": "FloatSliderModel",
          "model_module_version": "1.5.0",
          "state": {
            "_dom_classes": [],
            "_model_module": "@jupyter-widgets/controls",
            "_model_module_version": "1.5.0",
            "_model_name": "FloatSliderModel",
            "_view_count": null,
            "_view_module": "@jupyter-widgets/controls",
            "_view_module_version": "1.5.0",
            "_view_name": "FloatSliderView",
            "continuous_update": true,
            "description": "costi di smaltimento [CHF]",
            "description_tooltip": null,
            "disabled": false,
            "layout": "IPY_MODEL_e5682432af444641b381f4c120916d1b",
            "max": 1000,
            "min": 0,
            "orientation": "horizontal",
            "readout": true,
            "readout_format": ".2f",
            "step": 10,
            "style": "IPY_MODEL_d78ca146768f4cccae7f926e3ba8fcec",
            "value": 0
          }
        },
        "3d19e485bcec4aa09647fdac66ab7517": {
          "model_module": "@jupyter-widgets/controls",
          "model_name": "IntSliderModel",
          "model_module_version": "1.5.0",
          "state": {
            "_dom_classes": [],
            "_model_module": "@jupyter-widgets/controls",
            "_model_module_version": "1.5.0",
            "_model_name": "IntSliderModel",
            "_view_count": null,
            "_view_module": "@jupyter-widgets/controls",
            "_view_module_version": "1.5.0",
            "_view_name": "IntSliderView",
            "continuous_update": true,
            "description": "cicli equivalenti [cicli/anno]",
            "description_tooltip": null,
            "disabled": false,
            "layout": "IPY_MODEL_e5682432af444641b381f4c120916d1b",
            "max": 365,
            "min": 0,
            "orientation": "horizontal",
            "readout": true,
            "readout_format": "d",
            "step": 1,
            "style": "IPY_MODEL_26624319e7fb464dbc51db54516d0c01",
            "value": 250
          }
        },
        "5dd33f6541a145c59a7e0569705d20dc": {
          "model_module": "@jupyter-widgets/controls",
          "model_name": "IntSliderModel",
          "model_module_version": "1.5.0",
          "state": {
            "_dom_classes": [],
            "_model_module": "@jupyter-widgets/controls",
            "_model_module_version": "1.5.0",
            "_model_name": "IntSliderModel",
            "_view_count": null,
            "_view_module": "@jupyter-widgets/controls",
            "_view_module_version": "1.5.0",
            "_view_name": "IntSliderView",
            "continuous_update": true,
            "description": "Durata di vita [anni]",
            "description_tooltip": null,
            "disabled": false,
            "layout": "IPY_MODEL_e5682432af444641b381f4c120916d1b",
            "max": 30,
            "min": 0,
            "orientation": "horizontal",
            "readout": true,
            "readout_format": "d",
            "step": 1,
            "style": "IPY_MODEL_539d8c13a56e4ef7af95184b9816b9a2",
            "value": 10
          }
        },
        "2a86d74be61d46e99a321422f32110f8": {
          "model_module": "@jupyter-widgets/controls",
          "model_name": "FloatSliderModel",
          "model_module_version": "1.5.0",
          "state": {
            "_dom_classes": [],
            "_model_module": "@jupyter-widgets/controls",
            "_model_module_version": "1.5.0",
            "_model_name": "FloatSliderModel",
            "_view_count": null,
            "_view_module": "@jupyter-widgets/controls",
            "_view_module_version": "1.5.0",
            "_view_name": "FloatSliderView",
            "continuous_update": true,
            "description": "tasso di sconto [%]",
            "description_tooltip": null,
            "disabled": false,
            "layout": "IPY_MODEL_e5682432af444641b381f4c120916d1b",
            "max": 10,
            "min": 0,
            "orientation": "horizontal",
            "readout": true,
            "readout_format": ".2f",
            "step": 0.1,
            "style": "IPY_MODEL_32a099adfaee46e0aecd69aa5c79e7b9",
            "value": 1
          }
        },
        "d03c08d8e11a44dd9ee3a7fafd7a5b86": {
          "model_module": "@jupyter-widgets/output",
          "model_name": "OutputModel",
          "model_module_version": "1.0.0",
          "state": {
            "_dom_classes": [],
            "_model_module": "@jupyter-widgets/output",
            "_model_module_version": "1.0.0",
            "_model_name": "OutputModel",
            "_view_count": null,
            "_view_module": "@jupyter-widgets/output",
            "_view_module_version": "1.0.0",
            "_view_name": "OutputView",
            "layout": "IPY_MODEL_11c0b9f1c3cd42ac840570cddc3a88d5",
            "msg_id": "",
            "outputs": [
              {
                "output_type": "display_data",
                "data": {
                  "text/plain": "<Figure size 800x400 with 1 Axes>",
                  "image/png": "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\n"
                },
                "metadata": {}
              }
            ]
          }
        },
        "806c4d175b1b49c7b4ccbae0f6fce294": {
          "model_module": "@jupyter-widgets/base",
          "model_name": "LayoutModel",
          "model_module_version": "1.2.0",
          "state": {
            "_model_module": "@jupyter-widgets/base",
            "_model_module_version": "1.2.0",
            "_model_name": "LayoutModel",
            "_view_count": null,
            "_view_module": "@jupyter-widgets/base",
            "_view_module_version": "1.2.0",
            "_view_name": "LayoutView",
            "align_content": null,
            "align_items": null,
            "align_self": null,
            "border": null,
            "bottom": null,
            "display": null,
            "flex": null,
            "flex_flow": null,
            "grid_area": null,
            "grid_auto_columns": null,
            "grid_auto_flow": null,
            "grid_auto_rows": null,
            "grid_column": null,
            "grid_gap": null,
            "grid_row": null,
            "grid_template_areas": null,
            "grid_template_columns": null,
            "grid_template_rows": null,
            "height": null,
            "justify_content": null,
            "justify_items": null,
            "left": null,
            "margin": null,
            "max_height": null,
            "max_width": null,
            "min_height": null,
            "min_width": null,
            "object_fit": null,
            "object_position": null,
            "order": null,
            "overflow": null,
            "overflow_x": null,
            "overflow_y": null,
            "padding": null,
            "right": null,
            "top": null,
            "visibility": null,
            "width": null
          }
        },
        "e5682432af444641b381f4c120916d1b": {
          "model_module": "@jupyter-widgets/base",
          "model_name": "LayoutModel",
          "model_module_version": "1.2.0",
          "state": {
            "_model_module": "@jupyter-widgets/base",
            "_model_module_version": "1.2.0",
            "_model_name": "LayoutModel",
            "_view_count": null,
            "_view_module": "@jupyter-widgets/base",
            "_view_module_version": "1.2.0",
            "_view_name": "LayoutView",
            "align_content": null,
            "align_items": null,
            "align_self": null,
            "border": null,
            "bottom": null,
            "display": null,
            "flex": null,
            "flex_flow": null,
            "grid_area": null,
            "grid_auto_columns": null,
            "grid_auto_flow": null,
            "grid_auto_rows": null,
            "grid_column": null,
            "grid_gap": null,
            "grid_row": null,
            "grid_template_areas": null,
            "grid_template_columns": null,
            "grid_template_rows": null,
            "height": null,
            "justify_content": null,
            "justify_items": null,
            "left": null,
            "margin": null,
            "max_height": null,
            "max_width": null,
            "min_height": null,
            "min_width": null,
            "object_fit": null,
            "object_position": null,
            "order": null,
            "overflow": null,
            "overflow_x": null,
            "overflow_y": null,
            "padding": null,
            "right": null,
            "top": null,
            "visibility": null,
            "width": "30%"
          }
        },
        "dd1a6ae071bb48c5b038538f504116df": {
          "model_module": "@jupyter-widgets/controls",
          "model_name": "SliderStyleModel",
          "model_module_version": "1.5.0",
          "state": {
            "_model_module": "@jupyter-widgets/controls",
            "_model_module_version": "1.5.0",
            "_model_name": "SliderStyleModel",
            "_view_count": null,
            "_view_module": "@jupyter-widgets/base",
            "_view_module_version": "1.2.0",
            "_view_name": "StyleView",
            "description_width": "33%",
            "handle_color": null
          }
        },
        "ebd6e699cc7c405ab0d4adb75fd6a306": {
          "model_module": "@jupyter-widgets/controls",
          "model_name": "SliderStyleModel",
          "model_module_version": "1.5.0",
          "state": {
            "_model_module": "@jupyter-widgets/controls",
            "_model_module_version": "1.5.0",
            "_model_name": "SliderStyleModel",
            "_view_count": null,
            "_view_module": "@jupyter-widgets/base",
            "_view_module_version": "1.2.0",
            "_view_name": "StyleView",
            "description_width": "33%",
            "handle_color": null
          }
        },
        "02231eafb7fb47a5be4d015e86aafe02": {
          "model_module": "@jupyter-widgets/controls",
          "model_name": "SliderStyleModel",
          "model_module_version": "1.5.0",
          "state": {
            "_model_module": "@jupyter-widgets/controls",
            "_model_module_version": "1.5.0",
            "_model_name": "SliderStyleModel",
            "_view_count": null,
            "_view_module": "@jupyter-widgets/base",
            "_view_module_version": "1.2.0",
            "_view_name": "StyleView",
            "description_width": "33%",
            "handle_color": null
          }
        },
        "947cd31403d54921b88543690871aa59": {
          "model_module": "@jupyter-widgets/controls",
          "model_name": "SliderStyleModel",
          "model_module_version": "1.5.0",
          "state": {
            "_model_module": "@jupyter-widgets/controls",
            "_model_module_version": "1.5.0",
            "_model_name": "SliderStyleModel",
            "_view_count": null,
            "_view_module": "@jupyter-widgets/base",
            "_view_module_version": "1.2.0",
            "_view_name": "StyleView",
            "description_width": "33%",
            "handle_color": null
          }
        },
        "db742bc5a40f4274bd353042120a6ea8": {
          "model_module": "@jupyter-widgets/controls",
          "model_name": "SliderStyleModel",
          "model_module_version": "1.5.0",
          "state": {
            "_model_module": "@jupyter-widgets/controls",
            "_model_module_version": "1.5.0",
            "_model_name": "SliderStyleModel",
            "_view_count": null,
            "_view_module": "@jupyter-widgets/base",
            "_view_module_version": "1.2.0",
            "_view_name": "StyleView",
            "description_width": "33%",
            "handle_color": null
          }
        },
        "eacf858405214718bf6d3db4623d714f": {
          "model_module": "@jupyter-widgets/controls",
          "model_name": "SliderStyleModel",
          "model_module_version": "1.5.0",
          "state": {
            "_model_module": "@jupyter-widgets/controls",
            "_model_module_version": "1.5.0",
            "_model_name": "SliderStyleModel",
            "_view_count": null,
            "_view_module": "@jupyter-widgets/base",
            "_view_module_version": "1.2.0",
            "_view_name": "StyleView",
            "description_width": "33%",
            "handle_color": null
          }
        },
        "d78ca146768f4cccae7f926e3ba8fcec": {
          "model_module": "@jupyter-widgets/controls",
          "model_name": "SliderStyleModel",
          "model_module_version": "1.5.0",
          "state": {
            "_model_module": "@jupyter-widgets/controls",
            "_model_module_version": "1.5.0",
            "_model_name": "SliderStyleModel",
            "_view_count": null,
            "_view_module": "@jupyter-widgets/base",
            "_view_module_version": "1.2.0",
            "_view_name": "StyleView",
            "description_width": "33%",
            "handle_color": null
          }
        },
        "26624319e7fb464dbc51db54516d0c01": {
          "model_module": "@jupyter-widgets/controls",
          "model_name": "SliderStyleModel",
          "model_module_version": "1.5.0",
          "state": {
            "_model_module": "@jupyter-widgets/controls",
            "_model_module_version": "1.5.0",
            "_model_name": "SliderStyleModel",
            "_view_count": null,
            "_view_module": "@jupyter-widgets/base",
            "_view_module_version": "1.2.0",
            "_view_name": "StyleView",
            "description_width": "33%",
            "handle_color": null
          }
        },
        "539d8c13a56e4ef7af95184b9816b9a2": {
          "model_module": "@jupyter-widgets/controls",
          "model_name": "SliderStyleModel",
          "model_module_version": "1.5.0",
          "state": {
            "_model_module": "@jupyter-widgets/controls",
            "_model_module_version": "1.5.0",
            "_model_name": "SliderStyleModel",
            "_view_count": null,
            "_view_module": "@jupyter-widgets/base",
            "_view_module_version": "1.2.0",
            "_view_name": "StyleView",
            "description_width": "33%",
            "handle_color": null
          }
        },
        "32a099adfaee46e0aecd69aa5c79e7b9": {
          "model_module": "@jupyter-widgets/controls",
          "model_name": "SliderStyleModel",
          "model_module_version": "1.5.0",
          "state": {
            "_model_module": "@jupyter-widgets/controls",
            "_model_module_version": "1.5.0",
            "_model_name": "SliderStyleModel",
            "_view_count": null,
            "_view_module": "@jupyter-widgets/base",
            "_view_module_version": "1.2.0",
            "_view_name": "StyleView",
            "description_width": "33%",
            "handle_color": null
          }
        },
        "11c0b9f1c3cd42ac840570cddc3a88d5": {
          "model_module": "@jupyter-widgets/base",
          "model_name": "LayoutModel",
          "model_module_version": "1.2.0",
          "state": {
            "_model_module": "@jupyter-widgets/base",
            "_model_module_version": "1.2.0",
            "_model_name": "LayoutModel",
            "_view_count": null,
            "_view_module": "@jupyter-widgets/base",
            "_view_module_version": "1.2.0",
            "_view_name": "LayoutView",
            "align_content": null,
            "align_items": null,
            "align_self": null,
            "border": null,
            "bottom": null,
            "display": null,
            "flex": null,
            "flex_flow": null,
            "grid_area": null,
            "grid_auto_columns": null,
            "grid_auto_flow": null,
            "grid_auto_rows": null,
            "grid_column": null,
            "grid_gap": null,
            "grid_row": null,
            "grid_template_areas": null,
            "grid_template_columns": null,
            "grid_template_rows": null,
            "height": null,
            "justify_content": null,
            "justify_items": null,
            "left": null,
            "margin": null,
            "max_height": null,
            "max_width": null,
            "min_height": null,
            "min_width": null,
            "object_fit": null,
            "object_position": null,
            "order": null,
            "overflow": null,
            "overflow_x": null,
            "overflow_y": null,
            "padding": null,
            "right": null,
            "top": null,
            "visibility": null,
            "width": null
          }
        }
      }
    }
  },
  "cells": [
    {
      "cell_type": "markdown",
      "metadata": {
        "id": "view-in-github",
        "colab_type": "text"
      },
      "source": [
        "<a href=\"https://colab.research.google.com/github/supsi-dacd-isaac/teaching/blob/main/2023SelfConsumption/LCOS_batteria.ipynb\" target=\"_parent\"><img src=\"https://colab.research.google.com/assets/colab-badge.svg\" alt=\"Open In Colab\"/></a>"
      ]
    },
    {
      "cell_type": "markdown",
      "source": [
        "# Calcolo del LCOS di una batteria\n",
        "\n",
        "# $LCOS\\left[\\frac{CHF}{kWh}\\right] = \\frac{C_{investimento} + \\sum_{n=1}^N{\\frac{C_{manutenzione}}{\\left(1+r\\right)^n}}+ \\sum_{n=1}^N{\\frac{C_{carica}}{\\left(1+r\\right)^n}}+ \\frac{C_{smaltimento}}{\\left(1+r\\right)^N}}{\\sum_{n=1}^N{\\frac{E_{scaricata}}{\\left(1+r\\right)^n}}}$\n",
        "\n",
        "*   N = durata di vita della batteria\n",
        "*   r = tasso di sconto"
      ],
      "metadata": {
        "id": "pZvXNxCrvUou"
      }
    },
    {
      "cell_type": "code",
      "execution_count": 4,
      "metadata": {
        "colab": {
          "base_uri": "https://localhost:8080/",
          "height": 711,
          "referenced_widgets": [
            "1f002fd287574ef8ab50fa47baaaa6b5",
            "6e5d7628f154485a96a1bcd55edabdcc",
            "3e737e3c748c4815a1ba283de9e81633",
            "c2c9141cf5564d9e947730a1b7b0bc5e",
            "1c554576806b40bea286258b730c2645",
            "eed3eb0dc16641cbb15c6742974a8eac",
            "f142e762fcc14402b4a7eead4ed2ac47",
            "4dae7f26e19c4b5c9223151322751308",
            "3d19e485bcec4aa09647fdac66ab7517",
            "5dd33f6541a145c59a7e0569705d20dc",
            "2a86d74be61d46e99a321422f32110f8",
            "d03c08d8e11a44dd9ee3a7fafd7a5b86",
            "806c4d175b1b49c7b4ccbae0f6fce294",
            "e5682432af444641b381f4c120916d1b",
            "dd1a6ae071bb48c5b038538f504116df",
            "ebd6e699cc7c405ab0d4adb75fd6a306",
            "02231eafb7fb47a5be4d015e86aafe02",
            "947cd31403d54921b88543690871aa59",
            "db742bc5a40f4274bd353042120a6ea8",
            "eacf858405214718bf6d3db4623d714f",
            "d78ca146768f4cccae7f926e3ba8fcec",
            "26624319e7fb464dbc51db54516d0c01",
            "539d8c13a56e4ef7af95184b9816b9a2",
            "32a099adfaee46e0aecd69aa5c79e7b9",
            "11c0b9f1c3cd42ac840570cddc3a88d5"
          ]
        },
        "id": "oR7KxsIOvL0K",
        "outputId": "0cfc062f-69ed-4c6c-baf3-e4425031c7fa",
        "cellView": "form"
      },
      "outputs": [
        {
          "output_type": "display_data",
          "data": {
            "text/plain": [
              "interactive(children=(FloatSlider(value=9200.0, description='costi di investimento [CHF]', layout=Layout(width…"
            ],
            "application/vnd.jupyter.widget-view+json": {
              "version_major": 2,
              "version_minor": 0,
              "model_id": "1f002fd287574ef8ab50fa47baaaa6b5"
            }
          },
          "metadata": {}
        },
        {
          "output_type": "execute_result",
          "data": {
            "text/plain": [
              "<function __main__.calc_lcos(c_investimento, capacita_batteria, efficienza, p_carica, p_acquisto, c_manutenzione, c_smaltimento, cicli_equivalenti, N, r)>"
            ]
          },
          "metadata": {},
          "execution_count": 4
        }
      ],
      "source": [
        "#@title Codice per calcolo LCOS\n",
        "import numpy as np\n",
        "import ipywidgets as widgets\n",
        "from ipywidgets import interact\n",
        "import matplotlib.pyplot as plt\n",
        "\n",
        "def calc_lcos(c_investimento, capacita_batteria, efficienza, p_carica, p_acquisto, c_manutenzione, c_smaltimento, cicli_equivalenti, N, r):\n",
        "    r /= 100\n",
        "    e_caricata = cicli_equivalenti * capacita_batteria\n",
        "    c_carica = e_caricata * p_carica / 100.0\n",
        "    e_scaricata = e_caricata * efficienza / 100.0\n",
        "\n",
        "    somma_manutenzione = sum(c_manutenzione * capacita_batteria / (1 + r)**n for n in range(1, N + 1))\n",
        "    somma_carica = sum(c_carica / (1 + r)**n for n in range(1, N + 1))\n",
        "    somma_scarica = sum(e_scaricata / (1 + r)**n for n in range(1, N + 1))\n",
        "\n",
        "    lcos = (c_investimento + somma_manutenzione + somma_carica + c_smaltimento / (1 + r)**N) / somma_scarica * 100\n",
        "\n",
        "    # Display the result in an image\n",
        "    fig, ax = plt.subplots(figsize=(8, 4))\n",
        "    bar = ax.bar(['prezzo acquisto energia', 'LCOS'], [p_acquisto, lcos])\n",
        "    ax.bar_label(bar, fmt='{:.2f}',padding=3)\n",
        "    ax.set_ylabel('cts/kWh')\n",
        "    ax.set_ylim(0, 70)\n",
        "\n",
        "    # ax.text(0.5, 0.5, f'LCOS: {lcos:.2f} CHF/kWh', fontsize=12, va='center', ha='center')\n",
        "    # ax.axis('off')\n",
        "    plt.show()\n",
        "\n",
        "slider_kwargs = dict(style={'description_width': '33%'}, layout=widgets.Layout(width='30%'))\n",
        "# Create sliders for each constant\n",
        "c_investimento_slider = widgets.FloatSlider(value=9200, min=0, max=20000, step=100, description='costi di investimento [CHF]', **slider_kwargs)\n",
        "capacita_batteria_slider = widgets.FloatSlider(value=13.5, min=0, max=100, step=0.1, description='capacità batteria [kWh]', **slider_kwargs)\n",
        "efficienza_slider = widgets.FloatSlider(value=92, min=85, max=100, step=1, description='efficienza di andata e ritorno [%]', **slider_kwargs)\n",
        "p_carica_slider = widgets.FloatSlider(value=17.4, min=0, max=100, step=0.001, description='prezzo di vendita energia [cts/kWh]', **slider_kwargs)\n",
        "p_acquisto_slider = widgets.FloatSlider(value=26.49, min=0, max=100, step=0.001, description='prezzo di acquisto energia [cts/kWh]', **slider_kwargs)\n",
        "c_manutenzione_slider = widgets.FloatSlider(value=0, min=0, max=50, step=1, description='costi di manutenzione [CHF/kWh/anno]', **slider_kwargs)\n",
        "c_smaltimento_slider = widgets.FloatSlider(value=0, min=0, max=1000, step=10, description='costi di smaltimento [CHF]', **slider_kwargs)\n",
        "cicli_equivalenti_slider = widgets.IntSlider(value=250, min=0, max=365, step=1, description='cicli equivalenti [cicli/anno]', **slider_kwargs)\n",
        "N_slider = widgets.IntSlider(value=10, min=0, max=30, step=1, description='Durata di vita [anni]', **slider_kwargs)\n",
        "r_slider = widgets.FloatSlider(value=1, min=0, max=10, step=0.1, description='tasso di sconto [%]', **slider_kwargs)\n",
        "\n",
        "# Use interact to create interactive sliders\n",
        "interact(calc_lcos,\n",
        "         c_investimento=c_investimento_slider,\n",
        "         capacita_batteria=capacita_batteria_slider,\n",
        "         efficienza=efficienza_slider,\n",
        "         p_carica=p_carica_slider,\n",
        "         p_acquisto=p_acquisto_slider,\n",
        "         c_manutenzione=c_manutenzione_slider,\n",
        "         c_smaltimento=c_smaltimento_slider,\n",
        "         cicli_equivalenti=cicli_equivalenti_slider,\n",
        "         N=N_slider,\n",
        "         r=r_slider)"
      ]
    }
  ]
}