{
  "nbformat": 4,
  "nbformat_minor": 0,
  "metadata": {
    "colab": {
      "name": "L01_Introduction_to_colab.ipynb",
      "provenance": [],
      "include_colab_link": true
    },
    "kernelspec": {
      "name": "python3",
      "display_name": "Python 3"
    }
  },
  "cells": [
    {
      "cell_type": "markdown",
      "metadata": {
        "id": "view-in-github",
        "colab_type": "text"
      },
      "source": [
        "<a href=\"https://colab.research.google.com/github/supsi-dacd-isaac/teaching/blob/main/2021SmartGrids/L01_Introduction_to_colab.ipynb\" target=\"_parent\"><img src=\"https://colab.research.google.com/assets/colab-badge.svg\" alt=\"Open In Colab\"/></a>"
      ]
    },
    {
      "cell_type": "markdown",
      "metadata": {
        "id": "jn97Epfeaa9W"
      },
      "source": [
        "# Colab, python and energy in a nutshell*\n",
        "###### **i.e. the situation is hopeless but not serious*\n",
        "This course assignements and exercises will require some coding. In the past version of this course we used Matlab for these parts, but to avoid some installation/compatibility issues and make the exercises more accessible, this year we'll use IPython notebooks hosted on [github](https://colab.research.google.com/notebooks/intro.ipynb) and run by cloud-based service [colab](https://), directly from your browser.\n",
        "\n",
        "In this first exercise session we will go through some basics of the colab environment, IPython notebooks and python (through practical examples). This introduction is tought for students already familiar with matlab or other similar programming languages.\n",
        "\n",
        "# IPython notebooks and Colab\n",
        "IPython notebooks mix text (formatted using [markdown](https://https://guides.github.com/features/mastering-markdown/) syntax) with python code. They are thought to be interactive and to directly execute code in the browser. As you are running this notebook in colab, you can directly edit both (text and code cells) without worring to overwrite the original copy hosted on github. The easiest way to retain the changes you'll do is to save a copy of this notebook in your own drive through `File-> Save a copy in Drive`.\n",
        "![](https://raw.githubusercontent.com/nepslor/teaching/main/2021SmartGrids/figs/save_a_copy.png)\n",
        "\n",
        "Of course you can also save a copy on your github repository through `File-> Save a copy in GitHub`.\n",
        "Code cells can be directly executed pressing `ctrl+enter`. The notebook is statefull, meaning that variables declared in one cell are available in the next ones, if their cell has already been executed. Try for yourself:"
      ]
    },
    {
      "cell_type": "code",
      "metadata": {
        "id": "vuVU6p3CJXtw"
      },
      "source": [
        "a = 10"
      ],
      "execution_count": null,
      "outputs": []
    },
    {
      "cell_type": "code",
      "metadata": {
        "id": "Z-aXd5Y1aHaz"
      },
      "source": [
        "print(a)"
      ],
      "execution_count": null,
      "outputs": []
    },
    {
      "cell_type": "markdown",
      "metadata": {
        "id": "LiVevr4AKRlm"
      },
      "source": [
        "# Python basics\n",
        "It is not possible to condense all the Python syntax, data structure and architecture in a single notebook, so we won't. But if you're not acquainted with Python these notes will help you to quickly catch up.\n",
        "\n",
        "## Collections and numpy arrays\n",
        "Three main (ordered) built-in collection data types exhist in python: **lists**, **tuples** and **dictionaries**. They can contain any objects (numbers, other lists, classes) and possess their own methods. The main difference between lists and tuples is that the seconds are not *mutable*, i.e. you cannot change the values of their elements after they've been declared. Dictionaries contains *items* indexed by *keys*, so can be useful to assign tags to your data.  "
      ]
    },
    {
      "cell_type": "code",
      "metadata": {
        "id": "fHZbfBCYLQWI"
      },
      "source": [
        "my_list = [1, 2, 3, 4]\n",
        "print('this is a list: {}'.format(my_list))\n",
        "\n",
        "my_tuple= (1, 2, 3, 4)\n",
        "print('this is a tuple: {}'.format(my_tuple))\n",
        "\n",
        "my_dict = {'a':1, 'b':2, 'c':3, 'd':4}\n",
        "print('this is a dict: {}'.format(my_dict))\n",
        "print('my_dict kesy are:{}'.format(my_dict.keys()))"
      ],
      "execution_count": null,
      "outputs": []
    },
    {
      "cell_type": "markdown",
      "metadata": {
        "id": "tvFzo_mHSBC1"
      },
      "source": [
        "besides built in collections, the most used type of collections are numpy ndarray. Numpy ndarray can have an arbitrary number of dimensions, 1-D, 2-D and 3-D np.arrays can be seen as vectors, matrices and tensors, respectively. Non built-in libraries must be imported"
      ]
    },
    {
      "cell_type": "code",
      "metadata": {
        "id": "v1sUHUlJSxXL"
      },
      "source": [
        "import numpy as np\n",
        "my_array = np.array([1,2,3,4])\n",
        "print(my_array)\n",
        "\n",
        "# numpy has several ad-hoc function for the creation of arrays\n",
        "z = np.vstack([np.ones(5), 2 * np.ones(5)]) # vertically stacks a unitary vector and all-2-vector of length 5\n",
        "print(z)\n",
        "print(z.T) # transpose z\n",
        "print(z.reshape(1, -1)) # reshape to a 1-D vector, infer the second dimension\n",
        "\n",
        "# order 3 array (tensor)\n",
        "print('I am a tensor: {}'.format(np.ones((2,2,2))))\n"
      ],
      "execution_count": null,
      "outputs": []
    },
    {
      "cell_type": "markdown",
      "metadata": {
        "id": "5PtocL9ByslK"
      },
      "source": [
        "### Autocompletion\n",
        "Colab (as well as other common IDEs) provides autocompletion. Just press `ctrl+space` to invoke it. This is useful when you can guess the name of a command you need but you are not sure the exact name or its function's signature (how many and which kind of arguments it accepts). Let's try to use it to multiply the following matrices and do some basic operations on them:"
      ]
    },
    {
      "cell_type": "code",
      "metadata": {
        "id": "yGnI8rFhzbl3"
      },
      "source": [
        "\n",
        "a = np.ones((10,3)) * np.arange(2,5)\n",
        "b = np.array([[0, 0, 0],[2, 1, 0], [1, 1, 1]]).T\n",
        "\n",
        "# perform matrix multiplication\n",
        "\n",
        "# sum of the columns of c\n",
        "\n",
        "# sum the rows of c\n",
        "\n",
        "# perform singular value decomposition of c through the np.linalg module\n"
      ],
      "execution_count": null,
      "outputs": []
    },
    {
      "cell_type": "markdown",
      "metadata": {
        "id": "7t8_D-FDR4qG"
      },
      "source": [
        "#List comprehension and lambda functions\n",
        "List comprehension are elegant constructs that can replace simple for loops with if/else conditions. Lambda functions are the equivalent of Matlab's anonimous functions."
      ]
    },
    {
      "cell_type": "code",
      "metadata": {
        "id": "3VesdpkKPU2E"
      },
      "source": [
        "# populate a list with a for loop\n",
        "my_first_list = []\n",
        "for i in range(5):\n",
        "  my_first_list.append(i**2)\n",
        "print(my_first_list)\n",
        "\n",
        "\n",
        "# basic list comprehension\n",
        "my_second_list = [i**2 for i in range(5)]\n",
        "print(my_second_list)\n",
        "\n",
        "# if statement list comprehension\n",
        "my_third_list = [i**2 for i in range(5) if i%2==0]\n",
        "print(my_third_list)\n",
        "\n",
        "# if-else statement list comprehension\n",
        "my_fourth_list = [i**2 if i%2==0 else 'odd' for i in range(5)]\n",
        "print(my_fourth_list)\n",
        "\n",
        "# lambda function\n",
        "fib = lambda x: x if x<2 else fib(x-1) + fib(x-2)\n",
        "print([fib(i) for i in range(10)])"
      ],
      "execution_count": null,
      "outputs": []
    },
    {
      "cell_type": "markdown",
      "metadata": {
        "id": "5U5YrSY71Icd"
      },
      "source": [
        "Now your turn! Try to complete the following examples:"
      ]
    },
    {
      "cell_type": "code",
      "metadata": {
        "id": "1FWKNF451G_S"
      },
      "source": [
        "# print the names of the swiss universities with an enrollment numer higher than 10000\n",
        "swiss_uni = {\"UZH\":26356, \"USI\":2862, \"UNINE\":4173, \"UNILU\":3037, \"UNIL\":13500,\n",
        "             \"UNIGE\":16530, \"UNIFR\":10000, \"UNIBE\":17882, \"UNIBAS\":12852,\n",
        "             \"HSG\":8553, \"ETH\":20607, \"EPFL\":10686, \"SUPSI\":5376}\n",
        "print([])"
      ],
      "execution_count": null,
      "outputs": []
    },
    {
      "cell_type": "markdown",
      "metadata": {
        "id": "djf_m8mtVEtG"
      },
      "source": [
        "## Plotting\n",
        "Several plotting libraries exhist for python, we will exclusively use matplotlib, which is the most used. Basic results can be achieved in one line of code, the more fancy we get the more effort is required. In the following cell we will use it to visualize matrix multiplication with numpy."
      ]
    },
    {
      "cell_type": "code",
      "metadata": {
        "id": "2OgmGVeMUt6a"
      },
      "source": [
        "import matplotlib.pyplot as plt\n",
        "\n",
        "# matrix multiplication between np.arrays can be invoked also using \"@\"\n",
        "c = a @ b\n",
        "\n",
        "# basic plot\n",
        "plt.plot(np.random.randn(10,2));\n",
        "plt.title('random data')\n",
        "\n",
        "# make more than one plot in the same image\n",
        "fig, ax = plt.subplots(1, 2)\n",
        "cmap = plt.get_cmap('viridis',20)\n",
        "[ax[0].plot(np.cos(2*np.pi*np.arange(21)/20)* i**0.5, alpha=0.5, color=cmap(i)) for i in range(20)];\n",
        "[ax[1].plot(np.sin(2*np.pi*np.arange(21)/20)* i**0.5, alpha=0.5, color=cmap(i)) for i in range(20)];\n",
        "\n",
        "# illustrate matrix multiplication from the previous cell\n",
        "fig, ax = plt.subplots(1, 5)\n",
        "ax[0].matshow(a, vmin=0, vmax=9)\n",
        "ax[1].text(0.5,0.5,'@',fontsize=12, multialignment='center', transform=ax[1].transAxes)\n",
        "ax[2].matshow(b, vmin=0, vmax=9)\n",
        "ax[3].text(0.5,0.5,'=',fontsize=12, multialignment='center', transform=ax[3].transAxes)\n",
        "cl = ax[4].matshow(c, vmin=0, vmax=9)\n",
        "[ax[i].axis('off') for i in range(5)]\n",
        "fig.colorbar(cl, cax=fig.add_axes([0.92, 0.08, 0.03, 0.8]) )\n"
      ],
      "execution_count": null,
      "outputs": []
    },
    {
      "cell_type": "markdown",
      "metadata": {
        "id": "rJ19FDKrhYyH"
      },
      "source": [
        "## Installing non-standard packages, retrieving and manipulating tabular data\n",
        "The most common packages are already installed in the colab virtual environment. If we need more advanced packages, we can install them directly in the virtual machine running our notebook. We can use the wget package to download aggregated energy data for Switzerland, hosted [here](https://www.swissgrid.ch/en/home/customers/topics/energy-data-ch.html) by Swissgrid.\n",
        "\n"
      ]
    },
    {
      "cell_type": "code",
      "metadata": {
        "id": "VYfOotpxiDlH"
      },
      "source": [
        "# \"%%\"\" invokes an IPython magic command. This one just hides the output of the\n",
        "# cell that would be directed to standard output\n",
        "%%capture\n",
        "!pip install wget   # invokes the standard python package manager and installs wget\n",
        "import wget\n",
        "\n",
        "raw_data = wget.download(\"https://www.swissgrid.ch/dam/dataimport/energy-statistic/EnergieUebersichtCH-2024.xlsx\")"
      ],
      "execution_count": null,
      "outputs": []
    },
    {
      "cell_type": "markdown",
      "metadata": {
        "id": "F-ZwJxH9qwtu"
      },
      "source": [
        "We can use the pandas library to directly load the downloaded data. Pandas is the most used library for tabular data manipulation and supports the most common data formats. Just start writing `pd.read_` and press `ctrl+space` to invoke the autocompletion and see a list of the supported formats:\n",
        "![](https://raw.githubusercontent.com/supsi-dacd-isaac/teaching/main/2021SmartGrids/figs/pandas_imports.png)\n",
        "In the following cell we download the data and import a given sheet from the excel file, use its first two rows to create a multi index pandas DataFrame and visualize its first rows."
      ]
    },
    {
      "cell_type": "code",
      "metadata": {
        "id": "GsANEGtDK2tg"
      },
      "source": [
        "import pandas as pd\n",
        "from datetime import datetime\n",
        "date_parser = lambda x: datetime.strptime(x, '%d.%m.%Y %H:%M')\n",
        "data = pd.read_excel(raw_data,sheet_name='Zeitreihen0h15',header=0, index_col=0, skiprows=[1], parse_dates=[0], date_parser=date_parser)\n",
        "\n",
        "# print only English description of the columns, omitting production and consumption per canton\n",
        "[print(n.split('\\n')[1]) for n in data.columns.get_level_values(0) if '\\n' in n\n",
        " and np.all([s not in n  for s in ['Consumption Canton', 'Production Canton']])]\n",
        "\n",
        "# rename columns\n",
        "[data.rename(columns={n: n.split('\\n')[1]}, inplace=True) for n in data.columns.get_level_values(0) if '\\n' in n]\n",
        "\n",
        "# print the first rows of the dataset\n",
        "data.head()\n"
      ],
      "execution_count": null,
      "outputs": []
    },
    {
      "cell_type": "markdown",
      "metadata": {
        "id": "GyUmZkhbpq6F"
      },
      "source": [
        "Pandas has some powerful functions to manipulated tabular data. The following line of code does the following:\n",
        "* `data[['Import',\t'Export']]` select some columns from the DataFrame\n",
        "* `.loc[data.index>\"2023-12-01\"]` applies a filter on the dates of Dataframe's index\n",
        "* `.resample('1d')` resample the signal using daily samples\n",
        "* `.sum()` applies sum as resampling function\n",
        "* `.plot(alpha=0.8)` plot results with transparency"
      ]
    },
    {
      "cell_type": "code",
      "metadata": {
        "id": "3pUEQ6LjkP-P"
      },
      "source": [
        "data[['Import',\t'Export']].loc[data.index>\"2024-12-01\"].resample('1d').sum().plot(alpha=0.8, xlabel='time', ylabel='energy [kWh]', figsize=[15, 5])"
      ],
      "execution_count": null,
      "outputs": []
    },
    {
      "cell_type": "markdown",
      "metadata": {
        "id": "l6Arj7S2vAWY"
      },
      "source": [
        "# Exercises\n",
        "Now you have all the basic tools to answer these questions:\n",
        "1. Which percentage of energy consumed in Switzerland is not consumed by end-users? What's the reason of the difference?\n"
      ]
    },
    {
      "cell_type": "code",
      "metadata": {
        "id": "Z4RUWSmjx3rx"
      },
      "source": [],
      "execution_count": null,
      "outputs": []
    },
    {
      "cell_type": "markdown",
      "metadata": {
        "id": "lUhaH5Scx4Ls"
      },
      "source": [
        "2. What was the negative secundary control power peak? How do you think it was consumed?\n"
      ]
    },
    {
      "cell_type": "code",
      "metadata": {
        "id": "0brO2RXGx59r"
      },
      "source": [],
      "execution_count": null,
      "outputs": []
    },
    {
      "cell_type": "markdown",
      "source": [
        "In 2024, canton Ticino produced more or less than what it consumed?"
      ],
      "metadata": {
        "id": "DgrgcnzaqUvm"
      }
    },
    {
      "cell_type": "code",
      "source": [],
      "metadata": {
        "id": "uTGoG9K9K1oI"
      },
      "execution_count": null,
      "outputs": []
    },
    {
      "cell_type": "markdown",
      "source": [],
      "metadata": {
        "id": "61n_bIoppvyF"
      }
    },
    {
      "cell_type": "markdown",
      "metadata": {
        "id": "fAEtJmomx7Fr"
      },
      "source": [
        "3. In Switzerland there are ~ 8.2 GWp of PV. Considering a summer day at noon, we can estimate their total production to be about 80% of their nominal power. Given these hypotesis, what portion of the end users' consumption was covered by PVs the 3rd of July, at noon?"
      ]
    },
    {
      "cell_type": "code",
      "source": [],
      "metadata": {
        "id": "AhopJmDiqf4d"
      },
      "execution_count": null,
      "outputs": []
    }
  ]
}