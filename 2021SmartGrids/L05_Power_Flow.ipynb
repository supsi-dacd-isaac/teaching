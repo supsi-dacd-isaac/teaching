{
  "nbformat": 4,
  "nbformat_minor": 0,
  "metadata": {
    "colab": {
      "name": "L05_Power_Flow.ipynb",
      "provenance": [],
      "include_colab_link": true
    },
    "kernelspec": {
      "name": "python3",
      "display_name": "Python 3"
    },
    "language_info": {
      "name": "python"
    }
  },
  "cells": [
    {
      "cell_type": "markdown",
      "metadata": {
        "id": "view-in-github",
        "colab_type": "text"
      },
      "source": [
        "<a href=\"https://colab.research.google.com/github/supsi-dacd-isaac/teaching/blob/main/2021SmartGrids/L05_Power_Flow.ipynb\" target=\"_parent\"><img src=\"https://colab.research.google.com/assets/colab-badge.svg\" alt=\"Open In Colab\"/></a>"
      ]
    },
    {
      "cell_type": "markdown",
      "source": [
        "# Power Flow Simulations\n",
        "In this lecture we will solve a power flow for the following circuit\n",
        "\n",
        "<center><img src=\"https://github.com/supsi-dacd-isaac/teaching/raw/main/2021SmartGrids/figs/load_flow_circuit.png\" width=\"600\"></center>\n",
        "\n",
        "using the Gauss-Seidel method.\n",
        "\n",
        "We know the impedances of the lines:\n",
        "$$\n",
        "\\begin{array}{l}\n",
        "\\bar{Z}_1 = 0.05 + 0.1j\\\\\n",
        "\\bar{Z}_2 = 0.05 + 0.05j\\\\\n",
        "\\bar{Z}_3 = 0.15 + 0.2j\\\\\n",
        "\\bar{Z}_4 = 0.04 + 0.12j\n",
        "\\end{array}\n",
        "$$\n",
        "\n",
        "Let us further assume that buses 1 and 2 are generators with the ability to modulate their reactive power. We then consider the modulus of their voltages to be constant and equal to :\n",
        "$$\n",
        "\\begin{array}{l}\n",
        "E_1 = 1.05 \\mathrm{pu}\\\\\n",
        "E_2 = 1.00 \\mathrm{pu}\\\\\n",
        "\\end{array}\n",
        "$$\n",
        "And their active powers $P_1,P_2 = 1  \\mathrm{pu}$\n",
        "\n",
        "Let us assume that Buses 3 and 4 are loads. Let us consider their potentials (complex vectors) unknown, and let us consider their powers known:\n",
        "$$\n",
        "\\begin{array}{l}\n",
        "P3 = -0.9 \\mathrm{pu}, Q3 = 0 \\mathrm{pu}\\\\\n",
        "P4 = -1 \\mathrm{pu}, Q4 = -0.2 \\mathrm{pu}\\\\\n",
        "\\end{array}\n",
        "$$"
      ],
      "metadata": {
        "id": "JUoDFBoHQOVY"
      }
    },
    {
      "cell_type": "code",
      "source": [
        "import numpy as np\n",
        "import matplotlib.pyplot as plt\n",
        "import networkx as nx"
      ],
      "metadata": {
        "id": "rcb8Ts-PQV0V"
      },
      "execution_count": null,
      "outputs": []
    },
    {
      "cell_type": "markdown",
      "source": [
        "Let's define the grid parameters in terms of the m line impedances, and plot them as complex vectors."
      ],
      "metadata": {
        "id": "Zp_ZpgZu6_D3"
      }
    },
    {
      "cell_type": "code",
      "execution_count": null,
      "metadata": {
        "colab": {
          "base_uri": "https://localhost:8080/",
          "height": 301
        },
        "id": "-pn1qgOwQBxi",
        "outputId": "c8068a1c-9521-4f93-a80a-b49a468e896c"
      },
      "outputs": [
        {
          "output_type": "execute_result",
          "data": {
            "text/plain": [
              "Text(0, 0.5, 'Imag (z)')"
            ]
          },
          "metadata": {},
          "execution_count": 9
        },
        {
          "output_type": "display_data",
          "data": {
            "text/plain": [
              "<Figure size 432x288 with 1 Axes>"
            ],
            "image/png": "[encoded data removed]"
          },
          "metadata": {
            "needs_background": "light"
          }
        }
      ],
      "source": [
        "Z = np.array([.05 + .1j,\n",
        "              .05 + .05j,\n",
        "              .15 + .2j,\n",
        "              .04 + .12j])\n",
        "\n",
        "fig, ax = plt.subplots(1, 1)\n",
        "[ax.annotate('', xy=(x.real, x.imag), xytext=(0, 0), arrowprops=dict(arrowstyle=\"->\")) for i, x in enumerate(Z)]\n",
        "plt.xlim(0, 0.3)\n",
        "plt.ylim(0, 0.3)\n",
        "plt.xlabel('Real (z)')\n",
        "plt.ylabel('Imag (z)')"
      ]
    },
    {
      "cell_type": "markdown",
      "source": [
        "The second element we need to characterize our grid is the incidence matrix I, having n rows and m columns, where n is the number of nodes in the grid and m the number of branches. The incidence matrix is an alternative to the adiacence matrix to describe the topology of the grid. We can plot the resulting connections using networkx."
      ],
      "metadata": {
        "id": "CMvgiq977IID"
      }
    },
    {
      "cell_type": "code",
      "source": [
        "NI = np.asanyarray([[1, 0, 0, 0],\n",
        "                    [0, 0, 0, 1],\n",
        "                    [-1, 1, -1, 0],\n",
        "                    [0, 0, 1, -1],\n",
        "                    [0, -1, 0, 0]], dtype=int)\n",
        "\n",
        "NI_abs = np.abs(NI)\n",
        "adjacency = NI_abs @ NI_abs.T\n",
        "graph = nx.DiGraph(np.array(adjacency))\n",
        "graph = nx.relabel_nodes(graph, lambda x: x + 1)\n",
        "\n",
        "positions = nx.kamada_kawai_layout(graph)\n",
        "nx.draw_networkx(graph, pos=positions)"
      ],
      "metadata": {
        "colab": {
          "base_uri": "https://localhost:8080/",
          "height": 248
        },
        "id": "QbTfeq1YUP0m",
        "outputId": "71893ec0-bed4-4721-99bf-11debb3ff9de"
      },
      "execution_count": null,
      "outputs": [
        {
          "output_type": "display_data",
          "data": {
            "text/plain": [
              "<Figure size 432x288 with 1 Axes>"
            ],
            "image/png": "[encoded data removed]"
          },
          "metadata": {}
        }
      ]
    },
    {
      "cell_type": "code",
      "source": [
        "# let's define vectors of known voltages magnitudes and angles\n",
        "\n",
        "# starting values for voltages' magnitudes and angles\n",
        "EM = np.array([1.05, 1, 1, 1, 1]).reshape(-1, 1)\n",
        "EA = np.array([0, 0, 0, 0, 0]).reshape(-1, 1)\n",
        "\n",
        "# let's create boolean vectors indicating which voltage magnitudes and angles\n",
        "# are to use in the error checking phase of the iterations\n",
        "EMK = np.array([1, 1, 0, 0, 1], dtype=bool).reshape(-1, 1)\n",
        "EAK = np.array([0, 0, 0, 0, 1], dtype=bool).reshape(-1, 1)\n",
        "\n",
        "# let's define known active and reactive powers, and put 0 if they're not known\n",
        "P = np.array([1, 1, -.9, -1, 0]).reshape(-1, 1)\n",
        "Q = np.array([0, 0, 0, -.2, 0]).reshape(-1, 1)\n",
        "\n",
        "# let's create boolean vectors indicating which active and reactive powers\n",
        "# are to use in the error checking phase of the iterations\n",
        "PK = np.array([1, 1, 1, 1, 0]).reshape(-1, 1)\n",
        "QK = np.array([0, 0, 1, 1, 0]).reshape(-1, 1)"
      ],
      "metadata": {
        "id": "5y1rmpGEbiZs"
      },
      "execution_count": null,
      "outputs": []
    },
    {
      "cell_type": "markdown",
      "source": [
        "We can now define the admittance matrix from the line admittance matrix."
      ],
      "metadata": {
        "id": "PpJA63ED88Mu"
      }
    },
    {
      "cell_type": "code",
      "source": [
        "YL = np.diag(1 / Z)\n",
        "print('YL: {}'.format(YL))\n",
        "Y = NI @ YL @ NI.T  # <------- fill this\n",
        "print('Y: {}'.format(Y))"
      ],
      "metadata": {
        "colab": {
          "base_uri": "https://localhost:8080/"
        },
        "id": "fFblLpM687b8",
        "outputId": "758b549f-0789-46a4-fe62-bd83c117907a"
      },
      "execution_count": null,
      "outputs": [
        {
          "output_type": "stream",
          "name": "stdout",
          "text": [
            "YL: [[ 4.  -8.j   0.  +0.j   0.  +0.j   0.  +0.j ]\n",
            " [ 0.  +0.j  10. -10.j   0.  +0.j   0.  +0.j ]\n",
            " [ 0.  +0.j   0.  +0.j   2.4 -3.2j  0.  +0.j ]\n",
            " [ 0.  +0.j   0.  +0.j   0.  +0.j   2.5 -7.5j]]\n",
            "Y: [[  4.  -8.j    0.  +0.j   -4.  +8.j    0.  +0.j    0.  +0.j ]\n",
            " [  0.  +0.j    2.5 -7.5j   0.  +0.j   -2.5 +7.5j   0.  +0.j ]\n",
            " [ -4.  +8.j    0.  +0.j   16.4-21.2j  -2.4 +3.2j -10. +10.j ]\n",
            " [  0.  +0.j   -2.5 +7.5j  -2.4 +3.2j   4.9-10.7j   0.  +0.j ]\n",
            " [  0.  +0.j    0.  +0.j  -10. +10.j    0.  +0.j   10. -10.j ]]\n"
          ]
        }
      ]
    },
    {
      "cell_type": "markdown",
      "source": [
        "### Load flow solutions\n",
        "In order to retrieve a good solution for the power flow, we must pick reasonable starting values for the nodal voltages and angles. Even if the algorithm that we're gonna use is guaranteed to converge, the final solution isn't guaranteed to be the correct one. Generally speaking, we can choose voltage values close to unity since we are solving the power flow in per unit, and we can choose small deviations for the voltage angles. "
      ],
      "metadata": {
        "id": "VCjfizZP9iOw"
      }
    },
    {
      "cell_type": "code",
      "source": [
        "def solve_lf(NI, Y, YL, EM, EA, EMK, EAK, Pstar, Qstar, PK, QK, tol=1e-6):\n",
        "    \"\"\"\n",
        "    Solve approximated load flow\n",
        "    \"\"\"\n",
        "\n",
        "    # error initialization\n",
        "    Error = 1\n",
        "    N = len(EM)\n",
        "\n",
        "    # complex voltage\n",
        "    E = EM * np.exp(1j * EA);\n",
        "\n",
        "    # counter initialization\n",
        "    r = 1\n",
        "    Errors = []\n",
        "    while Error > tol:\n",
        "        E_prev = E.copy()\n",
        "        for i in range(N):  # iterate over all nodes\n",
        "            # the solution method depends on the node type\n",
        "            if ~EMK[i] and ~EAK[i]:  # if it's a load\n",
        "                I_conj = (Pstar[i] - 1j * Qstar[i]) / np.conj(E[i])\n",
        "                for n in range(N):\n",
        "                    if n != i:\n",
        "                        I_conj = I_conj - (Y[i, n] * E[n])\n",
        "                E[i] = I_conj / Y[i, i]\n",
        "            elif EMK[i] and ~EAK[i]:  # if it's a generator\n",
        "                Ii = Y[[i], :] @ E\n",
        "                Qi = -np.imag(np.conj(E[i]) @ Ii)\n",
        "                pvc = (Pstar[i] - 1j * Qi) / np.conj(E[i])\n",
        "                for n in range(N):\n",
        "                    if n != i:\n",
        "                        pvc = pvc - (Y[i, n] * E[n])\n",
        "                pv = pvc / Y[i, i]\n",
        "                E[i] = EM[i] @ np.exp(1j * np.angle(pv))\n",
        "\n",
        "        # recompute nodal currents\n",
        "        I = (Y @ E)\n",
        "\n",
        "        # recompute powers\n",
        "        P = np.real(E * np.conj(I))\n",
        "        Q = np.imag(E * np.conj(I))\n",
        "\n",
        "        step = np.abs(E)-np.abs(E_prev)\n",
        "        # let's recompute current solutions' distances from known quantities\n",
        "        PERR = (Pstar - P) * PK\n",
        "        QERR = (Qstar - Q) * QK\n",
        "        Error = np.sum(np.abs(PERR) ** 2 + np.abs(QERR) ** 2)\n",
        "        Errors.append(Error)\n",
        "        r = r + 1\n",
        "    DVline = NI.T @ E\n",
        "    I = Y @ E\n",
        "    Iline = YL @ DVline\n",
        "    Sloss = DVline * np.conj(Iline)\n",
        "    return E, P, Q, I, DVline, Iline, Sloss, Errors"
      ],
      "metadata": {
        "id": "lv1OAIuZhsXF"
      },
      "execution_count": null,
      "outputs": []
    },
    {
      "cell_type": "code",
      "source": [
        "E, P, Q, I, DVline, Iline, Sloss, errs = solve_lf(NI, Y, YL, EM, EA, EMK, EAK, P, Q, PK, QK, tol=1e-12)"
      ],
      "metadata": {
        "id": "3w5YiOf9r4Jx"
      },
      "execution_count": null,
      "outputs": []
    },
    {
      "cell_type": "code",
      "source": [
        "plt.plot(errs)"
      ],
      "metadata": {
        "colab": {
          "base_uri": "https://localhost:8080/",
          "height": 283
        },
        "id": "q9TFE0rkyBVs",
        "outputId": "db6477d6-f668-45f2-f34c-308e40538f67"
      },
      "execution_count": null,
      "outputs": [
        {
          "output_type": "execute_result",
          "data": {
            "text/plain": [
              "[<matplotlib.lines.Line2D at 0x7fb774f9e250>]"
            ]
          },
          "metadata": {},
          "execution_count": 15
        },
        {
          "output_type": "display_data",
          "data": {
            "text/plain": [
              "<Figure size 432x288 with 1 Axes>"
            ],
            "image/png": "[encoded data removed]"
          },
          "metadata": {
            "needs_background": "light"
          }
        }
      ]
    },
    {
      "cell_type": "code",
      "source": [
        "nx.set_node_attributes(graph, {k: v for k, v in zip(graph.nodes, np.abs(E).ravel())}, 'v')\n",
        "nx.draw_networkx(graph, node_color=list(nx.get_node_attributes(graph, 'v').values()), pos=positions)\n",
        "print('voltages: {}'.format(nx.get_node_attributes(graph, 'v')))"
      ],
      "metadata": {
        "id": "PSA8znnHzh66",
        "outputId": "3f37d85d-29b0-4f36-f0a1-d113cdb3b989",
        "colab": {
          "base_uri": "https://localhost:8080/",
          "height": 266
        }
      },
      "execution_count": null,
      "outputs": [
        {
          "output_type": "stream",
          "name": "stdout",
          "text": [
            "voltages: {1: 1.05, 2: 0.9999999999999999, 3: 0.9933151273899199, 4: 0.9494108215513458, 5: 1.0}\n"
          ]
        },
        {
          "output_type": "display_data",
          "data": {
            "text/plain": [
              "<Figure size 432x288 with 1 Axes>"
            ],
            "image/png": "[encoded data removed]"
          },
          "metadata": {}
        }
      ]
    }
  ]
}